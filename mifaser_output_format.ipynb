{
 "cells": [
  {
   "cell_type": "markdown",
   "metadata": {},
   "source": [
    "<h3> Formatting the output from mi-faser so that it can be used in weka </h3>"
   ]
  },
  {
   "cell_type": "markdown",
   "metadata": {},
   "source": [
    "First, we will read in each of the mi-faser output files and store them in a list of dictionaries"
   ]
  },
  {
   "cell_type": "code",
   "execution_count": 28,
   "metadata": {},
   "outputs": [],
   "source": [
    "from collections import defaultdict\n",
    "\n",
    "samples_list = ['N2', 'N3', 'N4','E1','E3','E4','E5']\n",
    "\n",
    "counts_list = []\n",
    "\n",
    "for sample in samples_list:\n",
    "    sample_dict = defaultdict(int)\n",
    "    with open(\"mifaser/\" + sample + '_mifaser.tsv') as fn:\n",
    "        lines = fn.readlines()\n",
    "        for line in lines:\n",
    "            sample_dict[line.split('\\t')[0]] = int(line.split('\\t')[1])\n",
    "    \n",
    "    counts_list.append(sample_dict)     "
   ]
  },
  {
   "cell_type": "markdown",
   "metadata": {},
   "source": [
    "Next, we will create a list of all of the unitque enzyme accession numbers"
   ]
  },
  {
   "cell_type": "code",
   "execution_count": 29,
   "metadata": {},
   "outputs": [],
   "source": [
    "all_ec = []\n",
    "\n",
    "for counts in counts_list:\n",
    "    for ec in counts.keys():\n",
    "        if ec not in all_ec:\n",
    "            all_ec.append(ec)"
   ]
  },
  {
   "cell_type": "code",
   "execution_count": 35,
   "metadata": {},
   "outputs": [],
   "source": [
    "counts = []\n",
    "for t in range(len(all_ec)):\n",
    "    counts.append([0,0,0,0,0,0,0])"
   ]
  },
  {
   "cell_type": "code",
   "execution_count": 51,
   "metadata": {},
   "outputs": [],
   "source": [
    "for z in range(len(counts_list)):\n",
    "    total = sum(counts_list[z].values())\n",
    "    for ecNumber in counts_list[z].keys():\n",
    "        index = all_ec.index(ecNumber)\n",
    "        norm = (counts_list[z][ecNumber] / total) * 100000\n",
    "        counts[index][z] = float(\"%.3f\" % norm)"
   ]
  },
  {
   "cell_type": "code",
   "execution_count": 43,
   "metadata": {},
   "outputs": [
    {
     "name": "stdout",
     "output_type": "stream",
     "text": [
      "['0.174', 0, '1.849', '2.675', '23.822', 0, 0]\n",
      "['25.553', 0, '280.318', '0.892', 0, 0, 0]\n"
     ]
    }
   ],
   "source": [
    "print(counts[0])\n",
    "print(counts[1])"
   ]
  },
  {
   "cell_type": "code",
   "execution_count": 47,
   "metadata": {},
   "outputs": [],
   "source": [
    "experimental_group = ['Normal','Normal','Normal','Experimental','Experimental','Experimental','Experimental']\n",
    "\n",
    "with open('mifaser_formatted_output.csv','w') as fn:\n",
    "    fn.write('Sample,Experimental_Group,')\n",
    "    for EC in all_ec[:-1]:\n",
    "        fn.write(str(EC) + ',')\n",
    "    fn.write(str(all_ec[-1]))\n",
    "    fn.write('\\n')\n",
    "    for g in range(len(counts[0])):\n",
    "        fn.write(samples_list[g]+',')\n",
    "        fn.write(experimental_group[g]+',')\n",
    "        for n in range(len(counts)):\n",
    "            if n != len(counts)-1:\n",
    "                fn.write(str(counts[n][g])+',')\n",
    "            else:\n",
    "                fn.write(str(counts[n][g]))\n",
    "        fn.write('\\n')"
   ]
  },
  {
   "cell_type": "markdown",
   "metadata": {},
   "source": [
    "Get the most descriptive enzymes from weka"
   ]
  },
  {
   "cell_type": "code",
   "execution_count": 48,
   "metadata": {},
   "outputs": [],
   "source": [
    "with open('weka_output.txt') as fn:\n",
    "    ecs = [line.strip('\\n').split(' ')[-1] for line in fn.readlines()]"
   ]
  },
  {
   "cell_type": "code",
   "execution_count": 65,
   "metadata": {},
   "outputs": [],
   "source": [
    "with open(\"top_ten.csv\",\"w\") as output:\n",
    "    output.write(\"Normal,High\\n\")\n",
    "    for enzC in ecs[:10]:\n",
    "        ecIndex = all_ec.index(enzC)\n",
    "        avgNormal = sum(counts[ecIndex][:3]) / 3\n",
    "        avgExp = sum(counts[ecIndex][3:]) / 4\n",
    "\n",
    "        output.write('{:.3f},{:.3f}\\n'.format(avgNormal, avgExp))"
   ]
  },
  {
   "cell_type": "code",
   "execution_count": 64,
   "metadata": {},
   "outputs": [
    {
     "name": "stdout",
     "output_type": "stream",
     "text": [
      "[0, 1, 2]\n"
     ]
    }
   ],
   "source": [
    "testList = [0,1,2,3]\n",
    "print(testList[:3])"
   ]
  },
  {
   "cell_type": "code",
   "execution_count": 75,
   "metadata": {},
   "outputs": [],
   "source": [
    "with open(\"mifaser_heatmap_data.csv\",\"w\") as fN:\n",
    "    fN.write(\",N2,N3,N4,E1,E3,E4,E5\\n\")\n",
    "    for enzC in ecs[:10]:\n",
    "        ecIndex = all_ec.index(enzC)\n",
    "        fN.write(all_ec[ecIndex] + ',')\n",
    "        for y in range(len(counts[ecIndex])):\n",
    "            if y != len(counts[ecIndex]) -1:\n",
    "                fN.write(str(counts[ecIndex][y]) + ',')\n",
    "            else:\n",
    "                fN.write(str(counts[ecIndex][y]))\n",
    "        fN.write('\\n')"
   ]
  },
  {
   "cell_type": "code",
   "execution_count": null,
   "metadata": {},
   "outputs": [],
   "source": []
  }
 ],
 "metadata": {
  "kernelspec": {
   "display_name": "Python 3",
   "language": "python",
   "name": "python3"
  },
  "language_info": {
   "codemirror_mode": {
    "name": "ipython",
    "version": 3
   },
   "file_extension": ".py",
   "mimetype": "text/x-python",
   "name": "python",
   "nbconvert_exporter": "python",
   "pygments_lexer": "ipython3",
   "version": "3.6.10"
  }
 },
 "nbformat": 4,
 "nbformat_minor": 4
}
