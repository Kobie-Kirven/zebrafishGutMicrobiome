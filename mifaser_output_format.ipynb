{
 "cells": [
  {
   "cell_type": "markdown",
   "metadata": {},
   "source": [
    "<h3> Formatting the output from mi-faser so that it can be used in weka </h3>"
   ]
  },
  {
   "cell_type": "markdown",
   "metadata": {},
   "source": [
    "First, we will read in each of the mi-faser output files and store them in a list of dictionaries"
   ]
  },
  {
   "cell_type": "code",
   "execution_count": null,
   "metadata": {},
   "outputs": [],
   "source": [
    "from collections import defaultdict\n",
    "\n",
    "samples_list = ['N2', 'N3', 'N4','E1','E3','E4','E5']\n",
    "\n",
    "counts_list = []\n",
    "\n",
    "for sample in samples_list:\n",
    "    sample_dict = defaultdict(int)\n",
    "    with open(sample + '_mifaser/analysis.tsv') as fn:\n",
    "        lines = fn.readlines()\n",
    "        for line in lines:\n",
    "            sample_dict[line.split('\\t')[0]] = int(line.split('\\t')[1])\n",
    "    \n",
    "    counts_list.append(sample_dict)     "
   ]
  },
  {
   "cell_type": "markdown",
   "metadata": {},
   "source": [
    "Next, we will create a list of all of the unitque enzyme accession numbers"
   ]
  },
  {
   "cell_type": "code",
   "execution_count": null,
   "metadata": {},
   "outputs": [],
   "source": []
  }
 ],
 "metadata": {
  "kernelspec": {
   "display_name": "Python 3",
   "language": "python",
   "name": "python3"
  },
  "language_info": {
   "codemirror_mode": {
    "name": "ipython",
    "version": 3
   },
   "file_extension": ".py",
   "mimetype": "text/x-python",
   "name": "python",
   "nbconvert_exporter": "python",
   "pygments_lexer": "ipython3",
   "version": "3.6.10"
  }
 },
 "nbformat": 4,
 "nbformat_minor": 4
}
