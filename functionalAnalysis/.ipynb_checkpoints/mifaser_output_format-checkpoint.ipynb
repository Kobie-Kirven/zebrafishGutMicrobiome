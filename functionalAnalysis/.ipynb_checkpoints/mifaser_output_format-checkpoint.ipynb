{
 "cells": [
  {
   "cell_type": "markdown",
   "metadata": {},
   "source": [
    "<h3> Normalization and formatting of mi-faser output for WEKA input and analysis of WEKA output </h3>"
   ]
  },
  {
   "cell_type": "markdown",
   "metadata": {},
   "source": [
    "<h4>Functional Analysis of the Zebrafish Gut Microbiome</h4>"
   ]
  },
  {
   "cell_type": "markdown",
   "metadata": {},
   "source": [
    "<h4> Kobie Kirven - Spring 2020 </h4>"
   ]
  },
  {
   "cell_type": "markdown",
   "metadata": {},
   "source": [
    "First, we will read in each of the mi-faser output files and store them in a list of dictionaries where the keys are the Enzyme accession ids (ECs) and the values are the counts."
   ]
  },
  {
   "cell_type": "code",
   "execution_count": 5,
   "metadata": {},
   "outputs": [],
   "source": [
    "from collections import defaultdict\n",
    "\n",
    "samples_list = ['N2', 'N3', 'N4','E1','E3','E4','E5']\n",
    "\n",
    "counts_list = []\n",
    "\n",
    "for sample in samples_list:\n",
    "    sample_dict = defaultdict(int)\n",
    "    with open(\"mifaser/\" + sample + '_mifaser.tsv') as fn:\n",
    "        lines = fn.readlines()\n",
    "        for line in lines:\n",
    "            sample_dict[line.split('\\t')[0]] = int(line.split('\\t')[1])\n",
    "    \n",
    "    counts_list.append(sample_dict)     "
   ]
  },
  {
   "cell_type": "markdown",
   "metadata": {},
   "source": [
    "Next, we will create a list of all of the unique EC ids as our \"master list\" of all ECs identified."
   ]
  },
  {
   "cell_type": "code",
   "execution_count": 6,
   "metadata": {},
   "outputs": [],
   "source": [
    "all_ec = []\n",
    "\n",
    "for counts in counts_list:\n",
    "    for ec in counts.keys():\n",
    "        if ec not in all_ec:\n",
    "            all_ec.append(ec)"
   ]
  },
  {
   "cell_type": "markdown",
   "metadata": {},
   "source": [
    "We then create a list that holds a list of counts for each sample at that particular EC and initialize the count to zero since not every sample necessarily contains every EC.\n"
   ]
  },
  {
   "cell_type": "code",
   "execution_count": 7,
   "metadata": {},
   "outputs": [],
   "source": [
    "counts = []\n",
    "for t in range(len(all_ec)):\n",
    "    counts.append([0,0,0,0,0,0,0])"
   ]
  },
  {
   "cell_type": "markdown",
   "metadata": {},
   "source": [
    "<p>Next, we will normalize the read counts to Counts per Million, where the counts that mapped to a particular enzyme are divided by the total number of reads in the metagenome, all multiplied by 1 million</p>"
   ]
  },
  {
   "cell_type": "markdown",
   "metadata": {},
   "source": [
    "$$CPM_{i} = \\frac{X_{i}}{\\frac{N}{10^6}}=\\frac{X_{i}}{N}*10^6$$"
   ]
  },
  {
   "cell_type": "markdown",
   "metadata": {},
   "source": [
    "The sequencing depth was obtained by counting the number of reads in the forward and reverse files for each sample and combining the counts from paired-end samples. "
   ]
  },
  {
   "cell_type": "code",
   "execution_count": 8,
   "metadata": {},
   "outputs": [],
   "source": [
    "seqDepth = [34821960,60092282,44166884,51961406,52977848,30877182,48272448]\n",
    "\n",
    "#Normalize the data to counts per million\n",
    "for z in range(len(counts_list)):\n",
    "    for ecNumber in counts_list[z].keys():\n",
    "        index = all_ec.index(ecNumber)\n",
    "        norm = (counts_list[z][ecNumber] / seqDepth[z]) * 1000000\n",
    "        counts[index][z] = float(\"%.3f\" % norm)"
   ]
  },
  {
   "cell_type": "markdown",
   "metadata": {},
   "source": [
    "Next, we'll plot the number of sequences per-sample that remaned after quality filtering to have a visual representation of how many reads we have."
   ]
  },
  {
   "cell_type": "code",
   "execution_count": 21,
   "metadata": {},
   "outputs": [
    {
     "data": {
      "text/plain": [
       "Text(0.5, 0, 'Sample')"
      ]
     },
     "execution_count": 21,
     "metadata": {},
     "output_type": "execute_result"
    },
    {
     "data": {
      "image/png": "[encoded data removed]",
      "text/plain": [
       "<Figure size 432x288 with 1 Axes>"
      ]
     },
     "metadata": {
      "needs_background": "light"
     },
     "output_type": "display_data"
    }
   ],
   "source": [
    "import matplotlib.pyplot as plt; plt.rcdefaults()\n",
    "import numpy as np\n",
    "import matplotlib.pyplot as plt\n",
    "%matplotlib inline \n",
    "\n",
    "objects = ('N2','N3','N4','E1','E3','E4','E5')\n",
    "y_pos = np.arange(len(objects))\n",
    "\n",
    "plt.bar(y_pos, seqDepth, align='center', alpha=0.5)\n",
    "plt.xticks(y_pos, objects)\n",
    "plt.ylabel('Number of Reads')\n",
    "plt.title('Seqencing Depth Between Samples')\n",
    "plt.xlabel('Sample')\n"
   ]
  },
  {
   "cell_type": "markdown",
   "metadata": {},
   "source": [
    "The next step is to format the data so that we can import it into the open source machine learning program WEKA. "
   ]
  },
  {
   "cell_type": "code",
   "execution_count": 28,
   "metadata": {},
   "outputs": [],
   "source": [
    "experimental_group = ['Normal','Normal','Normal','Experimental','Experimental','Experimental','Experimental']\n",
    "\n",
    "with open('mifaser_normalized_output.csv','w') as fn:\n",
    "    fn.write(\"group\")\n",
    "    for ec in all_ec:\n",
    "        fn.write(\",\" + ec)\n",
    "    fn.write(\"\\n\")\n",
    "    \n",
    "    for f in range(len(experimental_group)):\n",
    "        \n",
    "        fn.write(experimental_group[f])\n",
    "\n",
    "        for t in range(len(counts)):\n",
    "            fn.write(',' + str(counts[t][f]))\n",
    "        fn.write('\\n')"
   ]
  },
  {
   "cell_type": "markdown",
   "metadata": {},
   "source": [
    "<h3> WEKA Analysis </h3>"
   ]
  },
  {
   "cell_type": "markdown",
   "metadata": {},
   "source": [
    "<p> At this point, we import the data into the machine learning platform WEKA. The \"InfoGainAttributeEval\" feature was used with the \"Ranker\" method to find EC's that decrease the overall entropy and help to identify one experimental group from another. A raking cutoff of 0.5 was selected to decrease the complexity of the data.</p>"
   ]
  },
  {
   "cell_type": "markdown",
   "metadata": {},
   "source": [
    "We first open the weka output file and get the EC's that ranked the higest by WEKA"
   ]
  },
  {
   "cell_type": "code",
   "execution_count": 29,
   "metadata": {},
   "outputs": [],
   "source": [
    "with open('weka_output.txt') as fn:\n",
    "    ecs = [line.strip('\\n').split(' ')[-1] for line in fn.readlines()]"
   ]
  },
  {
   "cell_type": "markdown",
   "metadata": {},
   "source": [
    "Next, we will define a function that uses the KEGG API to functionally annotate the most informative ECs."
   ]
  },
  {
   "cell_type": "code",
   "execution_count": 63,
   "metadata": {},
   "outputs": [],
   "source": [
    "import urllib.request\n",
    "\n",
    "def getFunction(enzymeAccession):\n",
    "    '''Get the Kegg function for the enzyme'''\n",
    "    with urllib.request.urlopen('http://rest.kegg.jp/find/enzyme/' + enzymeAccession) as response:\n",
    "        html = response.read().decode('utf-8').split('\\t')\n",
    "        return(html[-1])"
   ]
  },
  {
   "cell_type": "markdown",
   "metadata": {},
   "source": [
    "We will next create a dictionary that holds the ECs as Keys and the KEGG functions as keys."
   ]
  },
  {
   "cell_type": "code",
   "execution_count": 65,
   "metadata": {},
   "outputs": [],
   "source": [
    "from collections import defaultdict\n",
    "\n",
    "functions = defaultdict(str)\n",
    "\n",
    "for EC in ecs:\n",
    "    functions[EC] = getFunction(EC)"
   ]
  },
  {
   "cell_type": "markdown",
   "metadata": {},
   "source": [
    "Next, we will output the ECs, the functions for each EC, and the median counts per experimentl group for each EC. The output is a tsv file titled, \"functional_annotation_output.tsv\""
   ]
  },
  {
   "cell_type": "code",
   "execution_count": 81,
   "metadata": {},
   "outputs": [],
   "source": [
    "import statistics\n",
    "\n",
    "with open(\"functional_annotation_output.tsv\", \"w\") as op:\n",
    "    op.write(\"EC\\tFunction\\tNormal\\tExperimental\\n\")\n",
    "    for key in functions:\n",
    "        ec_index = all_ec.index(key)\n",
    "        normMed = statistics.median(counts[ec_index][:3])\n",
    "        expMed = statistics.median(counts[ec_index][3:])\n",
    "        op.write(key + '\\t' + functions[key].strip('\\n') + '\\t ' + str(normMed) + '\\t' + str(expMed) + '\\n')\n",
    "    "
   ]
  },
  {
   "cell_type": "markdown",
   "metadata": {},
   "source": [
    "Finally, we will output the counts from the most informative ECs per-sample so that we can make a heatmap for visualiztion later on. "
   ]
  },
  {
   "cell_type": "code",
   "execution_count": 84,
   "metadata": {},
   "outputs": [],
   "source": [
    "with open(\"mifaser_heatmap_data.csv\",\"w\") as fN:\n",
    "    fN.write(\",N2,N3,N4,E1,E3,E4,E5\\n\")\n",
    "    for key in functions:\n",
    "        fN.write(key)\n",
    "        index = all_ec.index(key)\n",
    "        \n",
    "        for row in counts[index]:\n",
    "            fN.write(',' + str(row))\n",
    "        fN.write('\\n')"
   ]
  },
  {
   "cell_type": "code",
   "execution_count": 7,
   "metadata": {},
   "outputs": [
    {
     "ename": "ModuleNotFoundError",
     "evalue": "No module named 'Bio'",
     "output_type": "error",
     "traceback": [
      "\u001b[0;31m---------------------------------------------------------------------------\u001b[0m",
      "\u001b[0;31mModuleNotFoundError\u001b[0m                       Traceback (most recent call last)",
      "\u001b[0;32m<ipython-input-7-68261798fd0f>\u001b[0m in \u001b[0;36m<module>\u001b[0;34m\u001b[0m\n\u001b[0;32m----> 1\u001b[0;31m \u001b[0;32mfrom\u001b[0m \u001b[0mBio\u001b[0m\u001b[0;34m.\u001b[0m\u001b[0mKEGG\u001b[0m \u001b[0;32mimport\u001b[0m \u001b[0mREST\u001b[0m\u001b[0;34m\u001b[0m\u001b[0;34m\u001b[0m\u001b[0m\n\u001b[0m\u001b[1;32m      2\u001b[0m \u001b[0;34m\u001b[0m\u001b[0m\n\u001b[1;32m      3\u001b[0m \u001b[0;32mfrom\u001b[0m \u001b[0mBio\u001b[0m\u001b[0;34m.\u001b[0m\u001b[0mKEGG\u001b[0m \u001b[0;32mimport\u001b[0m \u001b[0mEnzyme\u001b[0m\u001b[0;34m\u001b[0m\u001b[0;34m\u001b[0m\u001b[0m\n\u001b[1;32m      4\u001b[0m \u001b[0;34m\u001b[0m\u001b[0m\n\u001b[1;32m      5\u001b[0m \u001b[0mrequest\u001b[0m \u001b[0;34m=\u001b[0m \u001b[0mREST\u001b[0m\u001b[0;34m.\u001b[0m\u001b[0mkegg_get\u001b[0m\u001b[0;34m(\u001b[0m\u001b[0;34m\"ec:5.4.2.2\"\u001b[0m\u001b[0;34m)\u001b[0m\u001b[0;34m\u001b[0m\u001b[0;34m\u001b[0m\u001b[0m\n",
      "\u001b[0;31mModuleNotFoundError\u001b[0m: No module named 'Bio'"
     ]
    }
   ],
   "source": [
    "from Bio.KEGG import REST\n",
    "\n",
    "from Bio.KEGG import Enzyme\n",
    "\n",
    "request = REST.kegg_get(\"ec:5.4.2.2\")\n",
    "\n",
    "open(\"ec_5.4.2.2.txt\", 'w').write(request.read().decode(\"utf-8\"))"
   ]
  },
  {
   "cell_type": "code",
   "execution_count": null,
   "metadata": {},
   "outputs": [],
   "source": []
  }
 ],
 "metadata": {
  "kernelspec": {
   "display_name": "Python 3",
   "language": "python",
   "name": "python3"
  },
  "language_info": {
   "codemirror_mode": {
    "name": "ipython",
    "version": 3
   },
   "file_extension": ".py",
   "mimetype": "text/x-python",
   "name": "python",
   "nbconvert_exporter": "python",
   "pygments_lexer": "ipython3",
   "version": "3.6.10"
  }
 },
 "nbformat": 4,
 "nbformat_minor": 4
}
